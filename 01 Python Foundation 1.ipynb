{
 "cells": [
  {
   "cell_type": "markdown",
   "id": "727165b2",
   "metadata": {},
   "source": [
    "### First programme to print 'hello world'"
   ]
  },
  {
   "cell_type": "code",
   "execution_count": 1,
   "id": "c779656d",
   "metadata": {},
   "outputs": [
    {
     "name": "stdout",
     "output_type": "stream",
     "text": [
      "hello world\n"
     ]
    }
   ],
   "source": [
    "print(\"hello world\")"
   ]
  },
  {
   "cell_type": "code",
   "execution_count": 2,
   "id": "cb0362eb",
   "metadata": {},
   "outputs": [
    {
     "name": "stdout",
     "output_type": "stream",
     "text": [
      "hello world\n"
     ]
    }
   ],
   "source": [
    "print('hello world')"
   ]
  },
  {
   "cell_type": "code",
   "execution_count": 3,
   "id": "99933211",
   "metadata": {},
   "outputs": [
    {
     "name": "stdout",
     "output_type": "stream",
     "text": [
      "welcome tothe world of python!"
     ]
    }
   ],
   "source": [
    "print('welcome to', end= '' )\n",
    "print('the world of python', end='!')"
   ]
  },
  {
   "cell_type": "markdown",
   "id": "8668ab31",
   "metadata": {},
   "source": [
    "### printing a numbers"
   ]
  },
  {
   "cell_type": "code",
   "execution_count": 4,
   "id": "1de3c355",
   "metadata": {},
   "outputs": [
    {
     "name": "stdout",
     "output_type": "stream",
     "text": [
      "123\n"
     ]
    }
   ],
   "source": [
    "print(123)"
   ]
  },
  {
   "cell_type": "code",
   "execution_count": 5,
   "id": "635df8e4",
   "metadata": {},
   "outputs": [
    {
     "name": "stdout",
     "output_type": "stream",
     "text": [
      "12.4\n"
     ]
    }
   ],
   "source": [
    "print(12.4)"
   ]
  },
  {
   "cell_type": "markdown",
   "id": "b3fa6d49",
   "metadata": {},
   "source": [
    "### Variables"
   ]
  },
  {
   "cell_type": "code",
   "execution_count": 6,
   "id": "71359f8a",
   "metadata": {},
   "outputs": [
    {
     "name": "stdout",
     "output_type": "stream",
     "text": [
      "12\n"
     ]
    }
   ],
   "source": [
    "age=12\n",
    "print(age)"
   ]
  },
  {
   "cell_type": "code",
   "execution_count": 7,
   "id": "a4c8acf9",
   "metadata": {},
   "outputs": [
    {
     "name": "stdout",
     "output_type": "stream",
     "text": [
      "200\n"
     ]
    }
   ],
   "source": [
    "fred = 200\n",
    "john = fred\n",
    "print(john)"
   ]
  },
  {
   "cell_type": "code",
   "execution_count": 8,
   "id": "1b72bf86",
   "metadata": {},
   "outputs": [],
   "source": [
    "x=10\n",
    "y=2.3\n",
    "z=1+2j"
   ]
  },
  {
   "cell_type": "markdown",
   "id": "0722a610",
   "metadata": {},
   "source": [
    "### Finding Datatypes of variables"
   ]
  },
  {
   "cell_type": "code",
   "execution_count": 11,
   "id": "36bae061",
   "metadata": {},
   "outputs": [
    {
     "data": {
      "text/plain": [
       "int"
      ]
     },
     "execution_count": 11,
     "metadata": {},
     "output_type": "execute_result"
    }
   ],
   "source": [
    "type(x)"
   ]
  },
  {
   "cell_type": "code",
   "execution_count": 12,
   "id": "0107f2c8",
   "metadata": {},
   "outputs": [
    {
     "data": {
      "text/plain": [
       "float"
      ]
     },
     "execution_count": 12,
     "metadata": {},
     "output_type": "execute_result"
    }
   ],
   "source": [
    "type(y)"
   ]
  },
  {
   "cell_type": "code",
   "execution_count": 13,
   "id": "d517fc91",
   "metadata": {},
   "outputs": [
    {
     "data": {
      "text/plain": [
       "complex"
      ]
     },
     "execution_count": 13,
     "metadata": {},
     "output_type": "execute_result"
    }
   ],
   "source": [
    "type(z)"
   ]
  },
  {
   "cell_type": "code",
   "execution_count": 14,
   "id": "a8c41bff",
   "metadata": {},
   "outputs": [
    {
     "name": "stdout",
     "output_type": "stream",
     "text": [
      "10.0\n",
      "<class 'float'>\n"
     ]
    }
   ],
   "source": [
    "d=10\n",
    "x=float(d)\n",
    "print(x)\n",
    "print(type(x))"
   ]
  },
  {
   "cell_type": "code",
   "execution_count": 15,
   "id": "6895f6cd",
   "metadata": {},
   "outputs": [],
   "source": [
    "x=complex(1,2)"
   ]
  },
  {
   "cell_type": "code",
   "execution_count": 16,
   "id": "9940f17a",
   "metadata": {},
   "outputs": [
    {
     "name": "stdout",
     "output_type": "stream",
     "text": [
      "(1+2j)\n"
     ]
    }
   ],
   "source": [
    "print(x)"
   ]
  },
  {
   "cell_type": "markdown",
   "id": "75b4a34f",
   "metadata": {},
   "source": [
    "### Finding sum of two numbers"
   ]
  },
  {
   "cell_type": "code",
   "execution_count": 17,
   "id": "d671f6ef",
   "metadata": {},
   "outputs": [
    {
     "name": "stdout",
     "output_type": "stream",
     "text": [
      "8\n"
     ]
    }
   ],
   "source": [
    "x=5\n",
    "y=3\n",
    "z=x+y\n",
    "print(z)"
   ]
  },
  {
   "cell_type": "code",
   "execution_count": 18,
   "id": "1b625a44",
   "metadata": {},
   "outputs": [
    {
     "name": "stdout",
     "output_type": "stream",
     "text": [
      "enter first no:3\n",
      "enter second no:4\n",
      "the sum is 7\n"
     ]
    }
   ],
   "source": [
    "x=int(input('enter first no:'))\n",
    "y=int(input('enter second no:'))\n",
    "z=x+y\n",
    "print('the sum is', z)"
   ]
  },
  {
   "cell_type": "markdown",
   "id": "b13d4a7d",
   "metadata": {},
   "source": [
    "### Concatenation on Strings"
   ]
  },
  {
   "cell_type": "code",
   "execution_count": 23,
   "id": "a904383e",
   "metadata": {},
   "outputs": [],
   "source": [
    "name1='sachin'\n",
    "name2='anu'"
   ]
  },
  {
   "cell_type": "code",
   "execution_count": 24,
   "id": "e75fc57a",
   "metadata": {},
   "outputs": [
    {
     "name": "stdout",
     "output_type": "stream",
     "text": [
      "sachinanu\n"
     ]
    }
   ],
   "source": [
    "op=name1+name2\n",
    "print(op)"
   ]
  },
  {
   "cell_type": "code",
   "execution_count": 25,
   "id": "62ce3009",
   "metadata": {},
   "outputs": [
    {
     "name": "stdout",
     "output_type": "stream",
     "text": [
      "sachinanu\n",
      "\n",
      "\n",
      "sachin\n"
     ]
    }
   ],
   "source": [
    "print(op)\n",
    "print('\\n')\n",
    "print(name1)"
   ]
  },
  {
   "cell_type": "code",
   "execution_count": null,
   "id": "64ac03e3",
   "metadata": {},
   "outputs": [],
   "source": []
  }
 ],
 "metadata": {
  "kernelspec": {
   "display_name": "Python 3 (ipykernel)",
   "language": "python",
   "name": "python3"
  },
  "language_info": {
   "codemirror_mode": {
    "name": "ipython",
    "version": 3
   },
   "file_extension": ".py",
   "mimetype": "text/x-python",
   "name": "python",
   "nbconvert_exporter": "python",
   "pygments_lexer": "ipython3",
   "version": "3.11.4"
  }
 },
 "nbformat": 4,
 "nbformat_minor": 5
}
