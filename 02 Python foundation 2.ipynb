{
 "cells": [
  {
   "cell_type": "code",
   "execution_count": 2,
   "id": "14481bdf",
   "metadata": {},
   "outputs": [
    {
     "name": "stdout",
     "output_type": "stream",
     "text": [
      "python python python \n"
     ]
    }
   ],
   "source": [
    "print('python ' *3)"
   ]
  },
  {
   "cell_type": "code",
   "execution_count": 3,
   "id": "f4ea8662",
   "metadata": {},
   "outputs": [
    {
     "name": "stdout",
     "output_type": "stream",
     "text": [
      "python\n",
      "python\n",
      "python\n",
      "python\n",
      "python\n",
      "\n"
     ]
    }
   ],
   "source": [
    "print('python\\n'*5)"
   ]
  },
  {
   "cell_type": "code",
   "execution_count": 4,
   "id": "a1af1edb",
   "metadata": {},
   "outputs": [],
   "source": [
    "s='python'"
   ]
  },
  {
   "cell_type": "code",
   "execution_count": 5,
   "id": "eb9a75ac",
   "metadata": {},
   "outputs": [
    {
     "name": "stdout",
     "output_type": "stream",
     "text": [
      "p\n"
     ]
    }
   ],
   "source": [
    "print(s[0])"
   ]
  },
  {
   "cell_type": "code",
   "execution_count": 6,
   "id": "a16c73db",
   "metadata": {},
   "outputs": [
    {
     "name": "stdout",
     "output_type": "stream",
     "text": [
      "o\n"
     ]
    }
   ],
   "source": [
    "print(s[4])"
   ]
  },
  {
   "cell_type": "code",
   "execution_count": 7,
   "id": "68c13f78",
   "metadata": {},
   "outputs": [
    {
     "name": "stdout",
     "output_type": "stream",
     "text": [
      "n\n"
     ]
    }
   ],
   "source": [
    "print(s[-1])"
   ]
  },
  {
   "cell_type": "code",
   "execution_count": 8,
   "id": "fd90b0c7",
   "metadata": {},
   "outputs": [
    {
     "name": "stdout",
     "output_type": "stream",
     "text": [
      "pyth\n"
     ]
    }
   ],
   "source": [
    "print(s[0:4])"
   ]
  },
  {
   "cell_type": "code",
   "execution_count": 9,
   "id": "fc378ed4",
   "metadata": {},
   "outputs": [
    {
     "name": "stdout",
     "output_type": "stream",
     "text": [
      "tho\n"
     ]
    }
   ],
   "source": [
    "print(s[2:5])"
   ]
  },
  {
   "cell_type": "code",
   "execution_count": 10,
   "id": "3e98b269",
   "metadata": {},
   "outputs": [
    {
     "name": "stdout",
     "output_type": "stream",
     "text": [
      "python\n"
     ]
    }
   ],
   "source": [
    "print(s[0:])"
   ]
  },
  {
   "cell_type": "code",
   "execution_count": 11,
   "id": "96e566ad",
   "metadata": {},
   "outputs": [
    {
     "name": "stdout",
     "output_type": "stream",
     "text": [
      "pytho\n"
     ]
    }
   ],
   "source": [
    "print(s[:5])"
   ]
  },
  {
   "cell_type": "code",
   "execution_count": 12,
   "id": "aa5c54a0",
   "metadata": {},
   "outputs": [
    {
     "name": "stdout",
     "output_type": "stream",
     "text": [
      "pto\n"
     ]
    }
   ],
   "source": [
    "print(s[0:6:2])"
   ]
  },
  {
   "cell_type": "code",
   "execution_count": 13,
   "id": "e25bf0b0",
   "metadata": {},
   "outputs": [
    {
     "name": "stdout",
     "output_type": "stream",
     "text": [
      "ph\n"
     ]
    }
   ],
   "source": [
    "print(s[0:6:3])"
   ]
  },
  {
   "cell_type": "code",
   "execution_count": 14,
   "id": "2b5b6588",
   "metadata": {},
   "outputs": [
    {
     "data": {
      "text/plain": [
       "'python'"
      ]
     },
     "execution_count": 14,
     "metadata": {},
     "output_type": "execute_result"
    }
   ],
   "source": [
    "s"
   ]
  },
  {
   "cell_type": "code",
   "execution_count": 15,
   "id": "eb4c22e8",
   "metadata": {},
   "outputs": [
    {
     "name": "stdout",
     "output_type": "stream",
     "text": [
      "Python\n"
     ]
    }
   ],
   "source": [
    "print(s.capitalize())"
   ]
  },
  {
   "cell_type": "code",
   "execution_count": 16,
   "id": "73db4866",
   "metadata": {},
   "outputs": [
    {
     "name": "stdout",
     "output_type": "stream",
     "text": [
      "PYTHON\n"
     ]
    }
   ],
   "source": [
    "print(s.upper())"
   ]
  },
  {
   "cell_type": "code",
   "execution_count": 17,
   "id": "c43a2555",
   "metadata": {},
   "outputs": [],
   "source": [
    "s='Python'"
   ]
  },
  {
   "cell_type": "code",
   "execution_count": 18,
   "id": "7d24a5e3",
   "metadata": {},
   "outputs": [
    {
     "name": "stdout",
     "output_type": "stream",
     "text": [
      "pYTHON\n"
     ]
    }
   ],
   "source": [
    "print(s.swapcase())"
   ]
  },
  {
   "cell_type": "code",
   "execution_count": 19,
   "id": "dcd1184f",
   "metadata": {},
   "outputs": [],
   "source": [
    "x=True"
   ]
  },
  {
   "cell_type": "code",
   "execution_count": 20,
   "id": "5d60ccb2",
   "metadata": {},
   "outputs": [
    {
     "data": {
      "text/plain": [
       "bool"
      ]
     },
     "execution_count": 20,
     "metadata": {},
     "output_type": "execute_result"
    }
   ],
   "source": [
    "type(x)"
   ]
  },
  {
   "cell_type": "markdown",
   "id": "c1954d20",
   "metadata": {},
   "source": [
    "## Arithematic operators"
   ]
  },
  {
   "cell_type": "code",
   "execution_count": 21,
   "id": "2dc30882",
   "metadata": {},
   "outputs": [],
   "source": [
    "a=5\n",
    "b=2"
   ]
  },
  {
   "cell_type": "code",
   "execution_count": 22,
   "id": "266a67ff",
   "metadata": {},
   "outputs": [
    {
     "name": "stdout",
     "output_type": "stream",
     "text": [
      "7\n"
     ]
    }
   ],
   "source": [
    "print(a+b)"
   ]
  },
  {
   "cell_type": "code",
   "execution_count": 23,
   "id": "48af61f2",
   "metadata": {},
   "outputs": [
    {
     "name": "stdout",
     "output_type": "stream",
     "text": [
      "10\n"
     ]
    }
   ],
   "source": [
    "print(a*b)"
   ]
  },
  {
   "cell_type": "code",
   "execution_count": 24,
   "id": "120c5127",
   "metadata": {},
   "outputs": [
    {
     "name": "stdout",
     "output_type": "stream",
     "text": [
      "2.5\n"
     ]
    }
   ],
   "source": [
    "print(a/b)"
   ]
  },
  {
   "cell_type": "code",
   "execution_count": 25,
   "id": "7b6309a4",
   "metadata": {},
   "outputs": [
    {
     "name": "stdout",
     "output_type": "stream",
     "text": [
      "1\n"
     ]
    }
   ],
   "source": [
    "print(a%b)"
   ]
  },
  {
   "cell_type": "code",
   "execution_count": 26,
   "id": "3be2e06a",
   "metadata": {},
   "outputs": [
    {
     "name": "stdout",
     "output_type": "stream",
     "text": [
      "25\n"
     ]
    }
   ],
   "source": [
    "print(a**b)"
   ]
  },
  {
   "cell_type": "markdown",
   "id": "f3b63c37",
   "metadata": {},
   "source": [
    "## Assignment operators"
   ]
  },
  {
   "cell_type": "code",
   "execution_count": 27,
   "id": "74c12020",
   "metadata": {},
   "outputs": [],
   "source": [
    "a=5\n",
    "b=10"
   ]
  },
  {
   "cell_type": "code",
   "execution_count": 28,
   "id": "d357bd50",
   "metadata": {},
   "outputs": [],
   "source": [
    "a+=b"
   ]
  },
  {
   "cell_type": "code",
   "execution_count": 29,
   "id": "b4d7123a",
   "metadata": {},
   "outputs": [
    {
     "name": "stdout",
     "output_type": "stream",
     "text": [
      "15\n"
     ]
    }
   ],
   "source": [
    "print(a)"
   ]
  },
  {
   "cell_type": "code",
   "execution_count": 30,
   "id": "57411550",
   "metadata": {},
   "outputs": [
    {
     "name": "stdout",
     "output_type": "stream",
     "text": [
      "10\n"
     ]
    }
   ],
   "source": [
    "print(b)"
   ]
  },
  {
   "cell_type": "code",
   "execution_count": 31,
   "id": "29d52b34",
   "metadata": {},
   "outputs": [],
   "source": [
    "a-=b"
   ]
  },
  {
   "cell_type": "code",
   "execution_count": 32,
   "id": "21a2d553",
   "metadata": {},
   "outputs": [
    {
     "name": "stdout",
     "output_type": "stream",
     "text": [
      "5\n"
     ]
    }
   ],
   "source": [
    "print(a)"
   ]
  },
  {
   "cell_type": "markdown",
   "id": "38fdd0e2",
   "metadata": {},
   "source": [
    "## Comparison operators"
   ]
  },
  {
   "cell_type": "code",
   "execution_count": 34,
   "id": "bdc882eb",
   "metadata": {},
   "outputs": [],
   "source": [
    "a=5\n",
    "b=2"
   ]
  },
  {
   "cell_type": "code",
   "execution_count": 35,
   "id": "5b6ccd2e",
   "metadata": {},
   "outputs": [
    {
     "name": "stdout",
     "output_type": "stream",
     "text": [
      "False\n"
     ]
    }
   ],
   "source": [
    "print(a<b)"
   ]
  },
  {
   "cell_type": "code",
   "execution_count": 36,
   "id": "5be0db45",
   "metadata": {},
   "outputs": [
    {
     "name": "stdout",
     "output_type": "stream",
     "text": [
      "False\n"
     ]
    }
   ],
   "source": [
    "print(a==b)"
   ]
  },
  {
   "cell_type": "code",
   "execution_count": 37,
   "id": "874b95f1",
   "metadata": {},
   "outputs": [
    {
     "name": "stdout",
     "output_type": "stream",
     "text": [
      "True\n"
     ]
    }
   ],
   "source": [
    "print(a>=b)"
   ]
  },
  {
   "cell_type": "markdown",
   "id": "902ecf2d",
   "metadata": {},
   "source": [
    "## Logical operators"
   ]
  },
  {
   "cell_type": "code",
   "execution_count": 39,
   "id": "c4132026",
   "metadata": {},
   "outputs": [
    {
     "name": "stdout",
     "output_type": "stream",
     "text": [
      "False\n"
     ]
    }
   ],
   "source": [
    "print((a>2)and (b>=6))"
   ]
  },
  {
   "cell_type": "code",
   "execution_count": 40,
   "id": "78032bf8",
   "metadata": {},
   "outputs": [
    {
     "name": "stdout",
     "output_type": "stream",
     "text": [
      "True\n"
     ]
    }
   ],
   "source": [
    "print((a>2) or (b>=6))"
   ]
  },
  {
   "cell_type": "code",
   "execution_count": 41,
   "id": "a9f3adf3",
   "metadata": {},
   "outputs": [
    {
     "name": "stdout",
     "output_type": "stream",
     "text": [
      "False\n"
     ]
    }
   ],
   "source": [
    "print(not(a>2 or p>6))"
   ]
  },
  {
   "cell_type": "markdown",
   "id": "b9cb7023",
   "metadata": {},
   "source": [
    "## Identity operators"
   ]
  },
  {
   "cell_type": "code",
   "execution_count": 43,
   "id": "b1890343",
   "metadata": {},
   "outputs": [
    {
     "name": "stdout",
     "output_type": "stream",
     "text": [
      "False\n"
     ]
    }
   ],
   "source": [
    "print(a is b)"
   ]
  },
  {
   "cell_type": "code",
   "execution_count": 44,
   "id": "921b7dc3",
   "metadata": {},
   "outputs": [
    {
     "name": "stdout",
     "output_type": "stream",
     "text": [
      "True\n"
     ]
    }
   ],
   "source": [
    "print(a is not b)"
   ]
  },
  {
   "cell_type": "markdown",
   "id": "52b69acd",
   "metadata": {},
   "source": [
    "## Conditional statements"
   ]
  },
  {
   "cell_type": "code",
   "execution_count": 48,
   "id": "8362b7a5",
   "metadata": {},
   "outputs": [
    {
     "name": "stdout",
     "output_type": "stream",
     "text": [
      "enter the cash available25000\n",
      "i will buy the smart tv\n"
     ]
    }
   ],
   "source": [
    "tv_price=20000\n",
    "cash_available=int(input('enter the cash available'))\n",
    "if(cash_available >=tv_price):\n",
    "  print('i will buy the smart tv')"
   ]
  },
  {
   "cell_type": "code",
   "execution_count": 49,
   "id": "900b5f09",
   "metadata": {},
   "outputs": [
    {
     "name": "stdout",
     "output_type": "stream",
     "text": [
      "enter the cash available10000\n",
      "i will not buy the smart tv\n"
     ]
    }
   ],
   "source": [
    "tv_price=20000\n",
    "cash_available=int(input('enter the cash available'))\n",
    "if(cash_available >=tv_price):\n",
    "  print('i will buy the smart tv')\n",
    "else:\n",
    "  print('i will not buy the smart tv')"
   ]
  },
  {
   "cell_type": "code",
   "execution_count": 14,
   "id": "09529f49",
   "metadata": {},
   "outputs": [
    {
     "name": "stdout",
     "output_type": "stream",
     "text": [
      "enter the cash available: 6000\n",
      "whether EMI options are available:(yes/no): no\n"
     ]
    }
   ],
   "source": [
    "tv_price = 20000\n",
    "cash_available = int(input('enter the cash available: '))\n",
    "if(cash_available<tv_price):\n",
    "    emi_status = input('whether EMI options are available:(yes/no): ')\n",
    "elif(emi_status == 'yes'):\n",
    "    print('I will buy the smart tv')\n",
    "else:\n",
    "    print('I will look for another TV')   ### check right or wrong"
   ]
  },
  {
   "cell_type": "code",
   "execution_count": 51,
   "id": "1496bbaf",
   "metadata": {},
   "outputs": [
    {
     "name": "stdout",
     "output_type": "stream",
     "text": [
      "jan\n",
      "feb\n",
      "march\n",
      "april\n",
      "may\n",
      "june\n"
     ]
    }
   ],
   "source": [
    "months= ['jan','feb','march','april','may','june']\n",
    "for m in months:\n",
    "  print(m)"
   ]
  },
  {
   "cell_type": "code",
   "execution_count": 52,
   "id": "1c3b1820",
   "metadata": {},
   "outputs": [
    {
     "name": "stdout",
     "output_type": "stream",
     "text": [
      "d\n",
      "e\n",
      "c\n"
     ]
    }
   ],
   "source": [
    "month='dec'\n",
    "for m in month:\n",
    "  print(m)"
   ]
  },
  {
   "cell_type": "code",
   "execution_count": 53,
   "id": "3a8cf3d0",
   "metadata": {},
   "outputs": [
    {
     "name": "stdout",
     "output_type": "stream",
     "text": [
      "1\n",
      "2\n",
      "3\n",
      "4\n",
      "5\n",
      "6\n",
      "7\n",
      "8\n",
      "9\n",
      "10\n"
     ]
    }
   ],
   "source": [
    "for x in range(1,11):\n",
    "  print(x)"
   ]
  },
  {
   "cell_type": "code",
   "execution_count": 2,
   "id": "aa682125",
   "metadata": {},
   "outputs": [
    {
     "name": "stdout",
     "output_type": "stream",
     "text": [
      "enter the number:10\n",
      "55\n"
     ]
    }
   ],
   "source": [
    "n = int(input('enter the number:'))\n",
    "sum = 0\n",
    "for i in range(1,n+1):\n",
    "    sum = sum+i\n",
    "print(sum)"
   ]
  },
  {
   "cell_type": "markdown",
   "id": "e3c522bd",
   "metadata": {},
   "source": [
    "## ques 1: computing area of a circle"
   ]
  },
  {
   "cell_type": "code",
   "execution_count": 6,
   "id": "e1ecfd7f",
   "metadata": {},
   "outputs": [
    {
     "name": "stdout",
     "output_type": "stream",
     "text": [
      "Enter the radius \n",
      "3\n",
      "28.259999999999998\n"
     ]
    }
   ],
   "source": [
    "r = float(input('Enter the radius \\n'))\n",
    "area = 3.14*r*r\n",
    "print(area)"
   ]
  },
  {
   "cell_type": "code",
   "execution_count": 5,
   "id": "cd7bce17",
   "metadata": {},
   "outputs": [
    {
     "name": "stdout",
     "output_type": "stream",
     "text": [
      "Enter the radius \n",
      "3\n",
      "28.274333882308138\n"
     ]
    }
   ],
   "source": [
    "import math as m\n",
    "r = float(input('Enter the radius \\n'))\n",
    "area = m.pi*r*r\n",
    "print(area)"
   ]
  },
  {
   "cell_type": "code",
   "execution_count": 13,
   "id": "ac77b957",
   "metadata": {},
   "outputs": [
    {
     "name": "stdout",
     "output_type": "stream",
     "text": [
      "enter the radius \n",
      "3\n",
      "area is 28.274333882308138\n"
     ]
    }
   ],
   "source": [
    "# using function\n",
    "import math\n",
    "def area_of_circle(radius):\n",
    "    a = r**2*math.pi\n",
    "    return a\n",
    "radius = float(input('enter the radius \\n'))\n",
    "print('area is',area_of_circle(radius))"
   ]
  },
  {
   "cell_type": "markdown",
   "id": "b1fbcba3",
   "metadata": {},
   "source": [
    "## ques 2: accept the student details and disply"
   ]
  },
  {
   "cell_type": "code",
   "execution_count": 16,
   "id": "0fe93bc0",
   "metadata": {},
   "outputs": [
    {
     "name": "stdout",
     "output_type": "stream",
     "text": [
      "Enter the name of student \n",
      "Anjitha\n",
      "Enter the roll no \n",
      "25\n",
      "Enter the mark \n",
      "85\n",
      "Name: Anjitha\n",
      "Roll Number: 25\n",
      "Mark: 85\n"
     ]
    }
   ],
   "source": [
    "name = str(input('Enter the name of student \\n'))\n",
    "roll_no = int(input('Enter the roll no \\n'))\n",
    "mark = int(input('Enter the mark \\n'))\n",
    "print('Name:',name)\n",
    "print('Roll Number:',roll_no)\n",
    "print('Mark:',mark)"
   ]
  },
  {
   "cell_type": "markdown",
   "id": "9ed3936a",
   "metadata": {},
   "source": [
    "## Ques 3: Largest Number from a List"
   ]
  },
  {
   "cell_type": "code",
   "execution_count": 24,
   "id": "63b0f840",
   "metadata": {},
   "outputs": [
    {
     "name": "stdout",
     "output_type": "stream",
     "text": [
      "47 is the largest number\n"
     ]
    }
   ],
   "source": [
    "# using sort function\n",
    "numbers = [12,3,47,10]\n",
    "numbers.sort()\n",
    "print(numbers[-1],'is the largest number')"
   ]
  },
  {
   "cell_type": "code",
   "execution_count": 26,
   "id": "2528563d",
   "metadata": {},
   "outputs": [
    {
     "name": "stdout",
     "output_type": "stream",
     "text": [
      "47 is the largest number\n"
     ]
    }
   ],
   "source": [
    "# using max function\n",
    "numbers = [12,3,47,10]\n",
    "print(max(numbers),'is the largest number')"
   ]
  },
  {
   "cell_type": "code",
   "execution_count": 27,
   "id": "351bba81",
   "metadata": {},
   "outputs": [
    {
     "name": "stdout",
     "output_type": "stream",
     "text": [
      "Enter the number of elements in the list \n",
      "4\n",
      "Enter Elements \n",
      "23\n",
      "Enter Elements \n",
      "12\n",
      "Enter Elements \n",
      "47\n",
      "Enter Elements \n",
      "10\n",
      "47 is the largest number\n"
     ]
    }
   ],
   "source": [
    "# using inputs provided by user\n",
    "numbers =[]\n",
    "n = int(input('Enter the number of elements in the list \\n'))\n",
    "for i in range(1,n+1):\n",
    "    e = int(input('Enter Elements \\n'))\n",
    "    numbers.append(e)\n",
    "print(max(numbers),'is the largest number')   "
   ]
  },
  {
   "cell_type": "markdown",
   "id": "f2ac3aeb",
   "metadata": {},
   "source": [
    "## Ques 4: string iteration and display sum"
   ]
  },
  {
   "cell_type": "code",
   "execution_count": 8,
   "id": "5ceea7f5",
   "metadata": {},
   "outputs": [
    {
     "name": "stdout",
     "output_type": "stream",
     "text": [
      "current number 0  previous number 0  sum 0\n",
      "current number 1  previous number 0  sum 1\n",
      "current number 2  previous number 1  sum 3\n",
      "current number 3  previous number 2  sum 5\n",
      "current number 4  previous number 3  sum 7\n",
      "current number 5  previous number 4  sum 9\n",
      "current number 6  previous number 5  sum 11\n",
      "current number 7  previous number 6  sum 13\n",
      "current number 8  previous number 7  sum 15\n",
      "current number 9  previous number 8  sum 17\n"
     ]
    }
   ],
   "source": [
    "num = list(range(10))\n",
    "prev_num = 0\n",
    "for i in num:\n",
    "    sum = prev_num + i\n",
    "    print('current number '+ str(i),\" \"+ 'previous number '+ str(prev_num),\" \" + 'sum ' + str(sum))\n",
    "    prev_num = i"
   ]
  },
  {
   "cell_type": "markdown",
   "id": "86b7ed14",
   "metadata": {},
   "source": [
    "## ques 5: disply numbers only divisible by 5"
   ]
  },
  {
   "cell_type": "code",
   "execution_count": 15,
   "id": "d170dede",
   "metadata": {},
   "outputs": [
    {
     "name": "stdout",
     "output_type": "stream",
     "text": [
      "[10, 20, 55]\n"
     ]
    }
   ],
   "source": [
    "numbers = [10,20,33,46,55]\n",
    "n = []\n",
    "for i in numbers:\n",
    "    if i%5 == 0:\n",
    "        n.append(i)\n",
    "print(n)"
   ]
  },
  {
   "cell_type": "code",
   "execution_count": 16,
   "id": "de6ad68c",
   "metadata": {},
   "outputs": [
    {
     "name": "stdout",
     "output_type": "stream",
     "text": [
      "enter an integer \n",
      "25\n",
      "enter an integer \n",
      "45\n",
      "enter an integer \n",
      "67\n",
      "enter an integer \n",
      "50\n",
      "enter an integer \n",
      "30\n",
      "25 45 50 30\n"
     ]
    }
   ],
   "source": [
    "num_list = []\n",
    "for i in range(5):\n",
    "    num = int(input('enter an integer \\n'))\n",
    "    if num:\n",
    "        num_list.append(num)\n",
    "print(*[item for item in num_list if item%5==0])"
   ]
  },
  {
   "cell_type": "code",
   "execution_count": 19,
   "id": "e28930d7",
   "metadata": {},
   "outputs": [
    {
     "name": "stdout",
     "output_type": "stream",
     "text": [
      "Give me a number:\t\t25\n",
      "Give me a number:\t\t40\n",
      "Give me a number:\t\t24\n",
      "Give me a number:\t\t50\n",
      "Give me a number:\t\t49\n",
      "25\n",
      "40\n",
      "50\n"
     ]
    }
   ],
   "source": [
    "nums = [] \n",
    "for i in range(5): \n",
    "    num = int(input('Give me a number:\t\t')) \n",
    "    nums.append(num) \n",
    " \n",
    "for i in nums: \n",
    "    if i % 5 == 0: \n",
    "        print(i) "
   ]
  },
  {
   "cell_type": "markdown",
   "id": "3ea7e881",
   "metadata": {},
   "source": [
    "## ques 6: check whether the number is prime or not"
   ]
  },
  {
   "cell_type": "code",
   "execution_count": 43,
   "id": "2db587f3",
   "metadata": {},
   "outputs": [
    {
     "name": "stdout",
     "output_type": "stream",
     "text": [
      "enter the number\n",
      "10\n",
      "10 is not a prime number\n"
     ]
    }
   ],
   "source": [
    "num = int(input('enter the number\\n'))\n",
    "if num > 1:\n",
    "    for i in range(2,num):\n",
    "        if (num % i) == 0:\n",
    "            print(num, 'is not a prime number')\n",
    "            break\n",
    "    else:\n",
    "            print(num, 'is a prime number')\n",
    "else:\n",
    "    print(num, 'is not a prime number')"
   ]
  },
  {
   "cell_type": "markdown",
   "id": "02ad0962",
   "metadata": {},
   "source": [
    "## ques 7: reversing a list"
   ]
  },
  {
   "cell_type": "code",
   "execution_count": 52,
   "id": "0b3b22cb",
   "metadata": {},
   "outputs": [
    {
     "name": "stdout",
     "output_type": "stream",
     "text": [
      "Enter the number of elements in the list \n",
      "4\n",
      "Enter Elements \n",
      "20\n",
      "Enter Elements \n",
      "10\n",
      "Enter Elements \n",
      "70\n",
      "Enter Elements \n",
      "40\n",
      "[40, 70, 10, 20]\n"
     ]
    }
   ],
   "source": [
    "numbers =[]\n",
    "n = int(input('Enter the number of elements in the list \\n'))\n",
    "for i in range(1,n+1):\n",
    "    e = int(input('Enter Elements \\n'))\n",
    "    numbers.append(e)\n",
    "print(numbers[::-1])   "
   ]
  },
  {
   "cell_type": "markdown",
   "id": "eff6a11c",
   "metadata": {},
   "source": [
    "## Ques 8: Printing * pattern"
   ]
  },
  {
   "cell_type": "code",
   "execution_count": 53,
   "id": "ea327f0e",
   "metadata": {},
   "outputs": [
    {
     "name": "stdout",
     "output_type": "stream",
     "text": [
      "*\n",
      "**\n",
      "***\n",
      "****\n"
     ]
    }
   ],
   "source": [
    "# using for loop\n",
    "n = 4\n",
    "for i in range(0,n):\n",
    "    for j in range(0, i+1):\n",
    "        print('*', end='')\n",
    "    print()"
   ]
  },
  {
   "cell_type": "code",
   "execution_count": 54,
   "id": "e6895ab0",
   "metadata": {},
   "outputs": [
    {
     "name": "stdout",
     "output_type": "stream",
     "text": [
      "* \r\n",
      "* * \r\n",
      "* * * \r\n",
      "* * * * \r\n"
     ]
    }
   ],
   "source": [
    "# using while loop\n",
    "\n",
    "n=4\n",
    "i = 1;j = 0\n",
    "while(i<=n):\n",
    "    while(j<=i-1):\n",
    "        print('* ',end ='')\n",
    "        j+=1\n",
    "    print('\\r')\n",
    "    j=0;i+=1"
   ]
  },
  {
   "cell_type": "markdown",
   "id": "80761278",
   "metadata": {},
   "source": [
    "## ques 9: find the maximum of 3 numbers"
   ]
  },
  {
   "cell_type": "code",
   "execution_count": 55,
   "id": "f64fb51f",
   "metadata": {},
   "outputs": [
    {
     "name": "stdout",
     "output_type": "stream",
     "text": [
      "Enter the number of elements in the list \n",
      "4\n",
      "Enter Elements \n",
      "34\n",
      "Enter Elements \n",
      "12\n",
      "Enter Elements \n",
      "7\n",
      "Enter Elements \n",
      "10\n",
      "34\n"
     ]
    }
   ],
   "source": [
    "numbers =[]\n",
    "n = int(input('Enter the number of elements in the list \\n'))\n",
    "for i in range(1,n+1):\n",
    "    e = int(input('Enter Elements \\n'))\n",
    "    numbers.append(e)\n",
    "print(max(numbers)) "
   ]
  },
  {
   "cell_type": "markdown",
   "id": "87efd952",
   "metadata": {},
   "source": [
    "## ques 10: reversing the pattern"
   ]
  },
  {
   "cell_type": "code",
   "execution_count": 59,
   "id": "f3f4b422",
   "metadata": {},
   "outputs": [
    {
     "name": "stdout",
     "output_type": "stream",
     "text": [
      "*\n",
      "**\n",
      "***\n",
      "****\n",
      "\n",
      "\n",
      "\n",
      "*\n"
     ]
    }
   ],
   "source": [
    "n = 4\n",
    "for i in range(0,n):\n",
    "    for j in range(0, i+1):\n",
    "        print('*', end='')\n",
    "    print()\n",
    "for i in range(n,0)\n",
    "    for j in range(i+):\n",
    "        print('*', end='')\n",
    "    print()\n",
    "    "
   ]
  },
  {
   "cell_type": "code",
   "execution_count": 1,
   "id": "58e5bcc3",
   "metadata": {},
   "outputs": [
    {
     "name": "stdout",
     "output_type": "stream",
     "text": [
      "        *\n",
      "       ***\n",
      "      *****\n",
      "     *******\n",
      "    *********\n",
      "   ***********\n",
      "  *************\n",
      " ***************\n",
      "*****************\n"
     ]
    }
   ],
   "source": [
    "def pyfunc(r):\n",
    "    for x in range(r):\n",
    "        print(' '*(r-x-1)+'*'*(2*x+1))    \n",
    "pyfunc(9)"
   ]
  },
  {
   "cell_type": "code",
   "execution_count": 6,
   "id": "fce5becd",
   "metadata": {},
   "outputs": [
    {
     "name": "stdout",
     "output_type": "stream",
     "text": [
      "0000*\n",
      "000***\n",
      "00*****\n",
      "0*******\n",
      "*********\n"
     ]
    }
   ],
   "source": [
    "def pyfunc(r):\n",
    "    for x in range(r):\n",
    "        print('0'*(r-x-1)+'*'*(2*x+1))    \n",
    "pyfunc(5)"
   ]
  },
  {
   "cell_type": "code",
   "execution_count": null,
   "id": "b52439bb",
   "metadata": {},
   "outputs": [],
   "source": []
  }
 ],
 "metadata": {
  "kernelspec": {
   "display_name": "Python 3 (ipykernel)",
   "language": "python",
   "name": "python3"
  },
  "language_info": {
   "codemirror_mode": {
    "name": "ipython",
    "version": 3
   },
   "file_extension": ".py",
   "mimetype": "text/x-python",
   "name": "python",
   "nbconvert_exporter": "python",
   "pygments_lexer": "ipython3",
   "version": "3.11.4"
  }
 },
 "nbformat": 4,
 "nbformat_minor": 5
}
