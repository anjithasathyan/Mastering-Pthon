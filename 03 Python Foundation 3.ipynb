{
 "cells": [
  {
   "cell_type": "markdown",
   "id": "f0342c11",
   "metadata": {},
   "source": [
    "## While loop"
   ]
  },
  {
   "cell_type": "code",
   "execution_count": 5,
   "id": "87761b8b",
   "metadata": {},
   "outputs": [
    {
     "name": "stdout",
     "output_type": "stream",
     "text": [
      "[28, 46, 12]\n",
      "[9, 15, 3]\n"
     ]
    }
   ],
   "source": [
    "numbers = [12,46,3,15,28,9]\n",
    "even = []\n",
    "odd = []\n",
    "while len(numbers)>0:\n",
    "    number = numbers.pop()  ## taking last element in the list\n",
    "    if(number % 2 == 0):\n",
    "        even.append(number)\n",
    "    else:\n",
    "        odd.append(number) \n",
    "print(even)\n",
    "print(odd)"
   ]
  },
  {
   "cell_type": "code",
   "execution_count": 6,
   "id": "d7ae01bb",
   "metadata": {},
   "outputs": [
    {
     "name": "stdout",
     "output_type": "stream",
     "text": [
      "enter the value of n: 10\n",
      "55\n"
     ]
    }
   ],
   "source": [
    "n = int(input('enter the value of n: '))\n",
    "sum=0\n",
    "i=1\n",
    "while(i<=n):\n",
    "  sum=sum+i\n",
    "  i=i+1\n",
    "print(sum)"
   ]
  },
  {
   "cell_type": "code",
   "execution_count": 7,
   "id": "6a3c3c28",
   "metadata": {},
   "outputs": [
    {
     "name": "stdout",
     "output_type": "stream",
     "text": [
      "red pen\n",
      "red pencil\n",
      "red paper\n",
      "green pen\n",
      "green pencil\n",
      "green paper\n",
      "yellow pen\n",
      "yellow pencil\n",
      "yellow paper\n"
     ]
    }
   ],
   "source": [
    "color=['red','green','yellow']\n",
    "objects=['pen','pencil','paper']\n",
    "for x in color:\n",
    "  for y in objects:\n",
    "    print(x,y)"
   ]
  },
  {
   "cell_type": "code",
   "execution_count": 8,
   "id": "a181c994",
   "metadata": {},
   "outputs": [
    {
     "name": "stdout",
     "output_type": "stream",
     "text": [
      "jan\n",
      "feb\n",
      "march\n",
      "apr\n"
     ]
    }
   ],
   "source": [
    "months=['jan','feb','march','apr','may','june']\n",
    "for m in months:\n",
    "  print(m)\n",
    "  if m=='apr':\n",
    "    break"
   ]
  },
  {
   "cell_type": "code",
   "execution_count": 12,
   "id": "aa14bf50",
   "metadata": {},
   "outputs": [
    {
     "name": "stdout",
     "output_type": "stream",
     "text": [
      "jan\n",
      "feb\n",
      "march\n"
     ]
    }
   ],
   "source": [
    "months=['jan','feb','march','apr','may','june']\n",
    "for m in months:\n",
    "    if m=='apr':\n",
    "        break\n",
    "    print(m)"
   ]
  },
  {
   "cell_type": "code",
   "execution_count": 13,
   "id": "a028b476",
   "metadata": {},
   "outputs": [
    {
     "name": "stdout",
     "output_type": "stream",
     "text": [
      "jan\n",
      "feb\n",
      "march\n",
      "may\n",
      "june\n"
     ]
    }
   ],
   "source": [
    "months=['jan','feb','march','apr','may','june']\n",
    "for m in months:\n",
    "    if m=='apr':\n",
    "        continue\n",
    "    print(m)"
   ]
  },
  {
   "cell_type": "markdown",
   "id": "722f58a0",
   "metadata": {},
   "source": [
    "## Built-in Functions"
   ]
  },
  {
   "cell_type": "code",
   "execution_count": 14,
   "id": "35b93f7c",
   "metadata": {},
   "outputs": [],
   "source": [
    "a = -1.5"
   ]
  },
  {
   "cell_type": "code",
   "execution_count": 15,
   "id": "4b32b034",
   "metadata": {},
   "outputs": [
    {
     "data": {
      "text/plain": [
       "1.5"
      ]
     },
     "execution_count": 15,
     "metadata": {},
     "output_type": "execute_result"
    }
   ],
   "source": [
    "abs(a)"
   ]
  },
  {
   "cell_type": "code",
   "execution_count": 16,
   "id": "7288c030",
   "metadata": {},
   "outputs": [],
   "source": [
    "b = [12,15,25,67]"
   ]
  },
  {
   "cell_type": "code",
   "execution_count": 17,
   "id": "99900eb0",
   "metadata": {},
   "outputs": [
    {
     "data": {
      "text/plain": [
       "12"
      ]
     },
     "execution_count": 17,
     "metadata": {},
     "output_type": "execute_result"
    }
   ],
   "source": [
    "min(b)"
   ]
  },
  {
   "cell_type": "code",
   "execution_count": 18,
   "id": "c10afd43",
   "metadata": {},
   "outputs": [
    {
     "data": {
      "text/plain": [
       "67"
      ]
     },
     "execution_count": 18,
     "metadata": {},
     "output_type": "execute_result"
    }
   ],
   "source": [
    "max(b)"
   ]
  },
  {
   "cell_type": "code",
   "execution_count": 19,
   "id": "ab4c19a1",
   "metadata": {},
   "outputs": [
    {
     "data": {
      "text/plain": [
       "4"
      ]
     },
     "execution_count": 19,
     "metadata": {},
     "output_type": "execute_result"
    }
   ],
   "source": [
    "len(b)"
   ]
  },
  {
   "cell_type": "code",
   "execution_count": 20,
   "id": "b6d1c656",
   "metadata": {},
   "outputs": [],
   "source": [
    "c = 2.5"
   ]
  },
  {
   "cell_type": "code",
   "execution_count": 21,
   "id": "0d0a6189",
   "metadata": {},
   "outputs": [
    {
     "data": {
      "text/plain": [
       "2"
      ]
     },
     "execution_count": 21,
     "metadata": {},
     "output_type": "execute_result"
    }
   ],
   "source": [
    "round(c)"
   ]
  },
  {
   "cell_type": "code",
   "execution_count": 22,
   "id": "68508fe8",
   "metadata": {},
   "outputs": [],
   "source": [
    "x = 6"
   ]
  },
  {
   "cell_type": "code",
   "execution_count": 25,
   "id": "4b97386b",
   "metadata": {},
   "outputs": [
    {
     "ename": "NameError",
     "evalue": "name 'factorial' is not defined",
     "output_type": "error",
     "traceback": [
      "\u001b[1;31m---------------------------------------------------------------------------\u001b[0m",
      "\u001b[1;31mNameError\u001b[0m                                 Traceback (most recent call last)",
      "Cell \u001b[1;32mIn[25], line 1\u001b[0m\n\u001b[1;32m----> 1\u001b[0m factorial(\u001b[38;5;241m6\u001b[39m)\n",
      "\u001b[1;31mNameError\u001b[0m: name 'factorial' is not defined"
     ]
    }
   ],
   "source": [
    "factorial(6)"
   ]
  },
  {
   "cell_type": "code",
   "execution_count": 27,
   "id": "8b88deed",
   "metadata": {},
   "outputs": [],
   "source": [
    "import math as m"
   ]
  },
  {
   "cell_type": "code",
   "execution_count": 29,
   "id": "4484d6b9",
   "metadata": {},
   "outputs": [
    {
     "data": {
      "text/plain": [
       "720"
      ]
     },
     "execution_count": 29,
     "metadata": {},
     "output_type": "execute_result"
    }
   ],
   "source": [
    "m.factorial(x)"
   ]
  },
  {
   "cell_type": "code",
   "execution_count": 31,
   "id": "00b8af2e",
   "metadata": {},
   "outputs": [
    {
     "data": {
      "text/plain": [
       "36"
      ]
     },
     "execution_count": 31,
     "metadata": {},
     "output_type": "execute_result"
    }
   ],
   "source": [
    "m.ceil(35.6)"
   ]
  },
  {
   "cell_type": "code",
   "execution_count": 33,
   "id": "11aa1528",
   "metadata": {},
   "outputs": [
    {
     "data": {
      "text/plain": [
       "34"
      ]
     },
     "execution_count": 33,
     "metadata": {},
     "output_type": "execute_result"
    }
   ],
   "source": [
    "m.floor(34.6)"
   ]
  },
  {
   "cell_type": "code",
   "execution_count": 34,
   "id": "4abe66ff",
   "metadata": {},
   "outputs": [
    {
     "data": {
      "text/plain": [
       "8.0"
      ]
     },
     "execution_count": 34,
     "metadata": {},
     "output_type": "execute_result"
    }
   ],
   "source": [
    "m.sqrt(64)"
   ]
  },
  {
   "cell_type": "markdown",
   "id": "5baa6560",
   "metadata": {},
   "source": [
    "## User Defined functions"
   ]
  },
  {
   "cell_type": "code",
   "execution_count": 38,
   "id": "a6fa805b",
   "metadata": {},
   "outputs": [],
   "source": [
    "def add(a,b):\n",
    "    print(a+b)\n",
    "def sub(a,b):\n",
    "    print(a-b)\n",
    "def mul(a,b):\n",
    "    print(a*b)\n",
    "def div(a,b):\n",
    "    print(a/b)"
   ]
  },
  {
   "cell_type": "code",
   "execution_count": 41,
   "id": "f5967c6e",
   "metadata": {},
   "outputs": [
    {
     "name": "stdout",
     "output_type": "stream",
     "text": [
      "enter the first value3\n",
      "enter the second value5\n",
      "please enter the choice: addition/substraction/multiplication/division\n",
      "enter your choice:(+/-/*//):*\n",
      "15\n"
     ]
    }
   ],
   "source": [
    "num1=int(input('enter the first value'))\n",
    "num2=int(input('enter the second value'))\n",
    "print('please enter the choice: addition/substraction/multiplication/division')\n",
    "choice=input('enter your choice:(+/-/*//):')\n",
    "if choice=='+':\n",
    "    add(num1,num2)\n",
    "elif choice=='-':\n",
    "    sub(num1,num2)\n",
    "elif choice=='*':\n",
    "    mul(num1,num2)\n",
    "elif choice=='/':\n",
    "    div(num1,num2)\n",
    "else:\n",
    "    print('wrong choice')"
   ]
  },
  {
   "cell_type": "code",
   "execution_count": 43,
   "id": "ba7679b9",
   "metadata": {},
   "outputs": [],
   "source": [
    "def add(n1,n2):\n",
    "    return(n1+n2)\n",
    "def sub(n1,n2):\n",
    "    diff=n1-n2\n",
    "    return(diff)\n",
    "def mul(n1,n2):\n",
    "    print(n1*n2)\n",
    "def div(n1,n2):\n",
    "    print(n1/n2)"
   ]
  },
  {
   "cell_type": "code",
   "execution_count": 44,
   "id": "93fa970c",
   "metadata": {},
   "outputs": [
    {
     "name": "stdout",
     "output_type": "stream",
     "text": [
      "enter the first value50\n",
      "enter the second value60\n",
      "please enter the choice: addition/substraction/multiplication/division\n",
      "enter your choice:(+/-/*//):+\n",
      "110\n"
     ]
    }
   ],
   "source": [
    "num1=int(input('enter the first value'))\n",
    "num2=int(input('enter the second value'))\n",
    "print('please enter the choice: addition/substraction/multiplication/division')\n",
    "choice=input('enter your choice:(+/-/*//):')\n",
    "if choice=='+':\n",
    "    sum = add(num1,num2)\n",
    "    print(sum)\n",
    "elif choice=='-':\n",
    "    d = sub(num1,num2)\n",
    "    print(d)\n",
    "elif choice=='*':\n",
    "    mul(num1,num2)\n",
    "elif choice=='/':\n",
    "    div(num1,num2)\n",
    "else:\n",
    "    print('wrong choice')"
   ]
  },
  {
   "cell_type": "code",
   "execution_count": 46,
   "id": "121a3640",
   "metadata": {},
   "outputs": [],
   "source": [
    "##  importing from another file:\n",
    "\n",
    "## from calc import add,sub,mul,div\n"
   ]
  },
  {
   "cell_type": "markdown",
   "id": "f38f5065",
   "metadata": {},
   "source": [
    "## Data structures in Python"
   ]
  },
  {
   "cell_type": "markdown",
   "id": "f347114e",
   "metadata": {},
   "source": [
    "## Lists"
   ]
  },
  {
   "cell_type": "code",
   "execution_count": 47,
   "id": "7eebf450",
   "metadata": {},
   "outputs": [],
   "source": [
    "list1=['messi','ronaldo','chetri',234,120]"
   ]
  },
  {
   "cell_type": "code",
   "execution_count": 48,
   "id": "bd5a0b1b",
   "metadata": {},
   "outputs": [
    {
     "data": {
      "text/plain": [
       "['messi', 'ronaldo', 'chetri', 234, 120]"
      ]
     },
     "execution_count": 48,
     "metadata": {},
     "output_type": "execute_result"
    }
   ],
   "source": [
    "list1"
   ]
  },
  {
   "cell_type": "code",
   "execution_count": 49,
   "id": "464dffde",
   "metadata": {},
   "outputs": [
    {
     "data": {
      "text/plain": [
       "'messi'"
      ]
     },
     "execution_count": 49,
     "metadata": {},
     "output_type": "execute_result"
    }
   ],
   "source": [
    "list1[0]"
   ]
  },
  {
   "cell_type": "code",
   "execution_count": 50,
   "id": "d986aa93",
   "metadata": {},
   "outputs": [
    {
     "data": {
      "text/plain": [
       "['ronaldo', 'chetri', 234]"
      ]
     },
     "execution_count": 50,
     "metadata": {},
     "output_type": "execute_result"
    }
   ],
   "source": [
    "list1[1:4]"
   ]
  },
  {
   "cell_type": "code",
   "execution_count": 51,
   "id": "cbadb23f",
   "metadata": {},
   "outputs": [
    {
     "data": {
      "text/plain": [
       "['messi', 'chetri', 120]"
      ]
     },
     "execution_count": 51,
     "metadata": {},
     "output_type": "execute_result"
    }
   ],
   "source": [
    "list1[::2]"
   ]
  },
  {
   "cell_type": "code",
   "execution_count": 53,
   "id": "096513d2",
   "metadata": {},
   "outputs": [],
   "source": [
    "list1.append('beckam')"
   ]
  },
  {
   "cell_type": "code",
   "execution_count": 54,
   "id": "054f5980",
   "metadata": {},
   "outputs": [
    {
     "data": {
      "text/plain": [
       "['messi', 'ronaldo', 'chetri', 234, 120, 'beckam', 'beckam']"
      ]
     },
     "execution_count": 54,
     "metadata": {},
     "output_type": "execute_result"
    }
   ],
   "source": [
    "list1"
   ]
  },
  {
   "cell_type": "code",
   "execution_count": 55,
   "id": "da875d4c",
   "metadata": {},
   "outputs": [],
   "source": [
    "list1.insert(2,'mbappe')"
   ]
  },
  {
   "cell_type": "code",
   "execution_count": 56,
   "id": "729bf1f4",
   "metadata": {},
   "outputs": [
    {
     "data": {
      "text/plain": [
       "['messi', 'ronaldo', 'mbappe', 'chetri', 234, 120, 'beckam', 'beckam']"
      ]
     },
     "execution_count": 56,
     "metadata": {},
     "output_type": "execute_result"
    }
   ],
   "source": [
    "list1"
   ]
  },
  {
   "cell_type": "code",
   "execution_count": 57,
   "id": "911753b2",
   "metadata": {},
   "outputs": [],
   "source": [
    "list1.insert(4,120)"
   ]
  },
  {
   "cell_type": "code",
   "execution_count": 58,
   "id": "077e0618",
   "metadata": {},
   "outputs": [
    {
     "data": {
      "text/plain": [
       "['messi', 'ronaldo', 'mbappe', 'chetri', 120, 234, 120, 'beckam', 'beckam']"
      ]
     },
     "execution_count": 58,
     "metadata": {},
     "output_type": "execute_result"
    }
   ],
   "source": [
    "list1"
   ]
  },
  {
   "cell_type": "code",
   "execution_count": 59,
   "id": "9bc12b16",
   "metadata": {},
   "outputs": [],
   "source": [
    "del list1[4]"
   ]
  },
  {
   "cell_type": "code",
   "execution_count": 60,
   "id": "009d6344",
   "metadata": {},
   "outputs": [
    {
     "data": {
      "text/plain": [
       "['messi', 'ronaldo', 'mbappe', 'chetri', 234, 120, 'beckam', 'beckam']"
      ]
     },
     "execution_count": 60,
     "metadata": {},
     "output_type": "execute_result"
    }
   ],
   "source": [
    "list1"
   ]
  },
  {
   "cell_type": "code",
   "execution_count": 61,
   "id": "2078129b",
   "metadata": {},
   "outputs": [],
   "source": [
    "list1.remove('mbappe')"
   ]
  },
  {
   "cell_type": "code",
   "execution_count": 62,
   "id": "f7800cd1",
   "metadata": {},
   "outputs": [
    {
     "data": {
      "text/plain": [
       "['messi', 'ronaldo', 'chetri', 234, 120, 'beckam', 'beckam']"
      ]
     },
     "execution_count": 62,
     "metadata": {},
     "output_type": "execute_result"
    }
   ],
   "source": [
    "list1"
   ]
  },
  {
   "cell_type": "code",
   "execution_count": 63,
   "id": "2af0a9c8",
   "metadata": {},
   "outputs": [],
   "source": [
    "a=list1.pop()"
   ]
  },
  {
   "cell_type": "code",
   "execution_count": 65,
   "id": "fdabde49",
   "metadata": {},
   "outputs": [
    {
     "data": {
      "text/plain": [
       "['messi', 'ronaldo', 'chetri', 234, 120, 'beckam']"
      ]
     },
     "execution_count": 65,
     "metadata": {},
     "output_type": "execute_result"
    }
   ],
   "source": [
    "list1"
   ]
  },
  {
   "cell_type": "markdown",
   "id": "e6b1e474",
   "metadata": {},
   "source": [
    "## tuple"
   ]
  },
  {
   "cell_type": "code",
   "execution_count": 66,
   "id": "ed33c059",
   "metadata": {},
   "outputs": [],
   "source": [
    "tup1=('sachin','virat','dhoni',150,200.5)"
   ]
  },
  {
   "cell_type": "code",
   "execution_count": 67,
   "id": "bfa2745e",
   "metadata": {},
   "outputs": [
    {
     "data": {
      "text/plain": [
       "('sachin', 'virat', 'dhoni', 150, 200.5)"
      ]
     },
     "execution_count": 67,
     "metadata": {},
     "output_type": "execute_result"
    }
   ],
   "source": [
    "tup1"
   ]
  },
  {
   "cell_type": "code",
   "execution_count": 68,
   "id": "566d92d1",
   "metadata": {},
   "outputs": [
    {
     "data": {
      "text/plain": [
       "'dhoni'"
      ]
     },
     "execution_count": 68,
     "metadata": {},
     "output_type": "execute_result"
    }
   ],
   "source": [
    "tup1[2]"
   ]
  },
  {
   "cell_type": "code",
   "execution_count": 69,
   "id": "e27a3be4",
   "metadata": {},
   "outputs": [
    {
     "data": {
      "text/plain": [
       "('sachin', 'virat', 'dhoni')"
      ]
     },
     "execution_count": 69,
     "metadata": {},
     "output_type": "execute_result"
    }
   ],
   "source": [
    "tup1[:3]"
   ]
  },
  {
   "cell_type": "code",
   "execution_count": 71,
   "id": "eb9d634e",
   "metadata": {},
   "outputs": [
    {
     "ename": "TypeError",
     "evalue": "'tuple' object does not support item assignment",
     "output_type": "error",
     "traceback": [
      "\u001b[1;31m---------------------------------------------------------------------------\u001b[0m",
      "\u001b[1;31mTypeError\u001b[0m                                 Traceback (most recent call last)",
      "Cell \u001b[1;32mIn[71], line 1\u001b[0m\n\u001b[1;32m----> 1\u001b[0m tup1[\u001b[38;5;241m1\u001b[39m]\u001b[38;5;241m=\u001b[39m\u001b[38;5;124m'\u001b[39m\u001b[38;5;124msourav\u001b[39m\u001b[38;5;124m'\u001b[39m\n",
      "\u001b[1;31mTypeError\u001b[0m: 'tuple' object does not support item assignment"
     ]
    }
   ],
   "source": [
    "tup1[1]='sourav'"
   ]
  },
  {
   "cell_type": "code",
   "execution_count": 72,
   "id": "4fa0402f",
   "metadata": {},
   "outputs": [],
   "source": [
    "tup2=(1,2,3,4)"
   ]
  },
  {
   "cell_type": "code",
   "execution_count": 73,
   "id": "83cf9fd1",
   "metadata": {},
   "outputs": [],
   "source": [
    "tup3 = tup1+tup2"
   ]
  },
  {
   "cell_type": "code",
   "execution_count": 74,
   "id": "851f1035",
   "metadata": {},
   "outputs": [
    {
     "data": {
      "text/plain": [
       "('sachin', 'virat', 'dhoni', 150, 200.5, 1, 2, 3, 4)"
      ]
     },
     "execution_count": 74,
     "metadata": {},
     "output_type": "execute_result"
    }
   ],
   "source": [
    "tup3"
   ]
  },
  {
   "cell_type": "code",
   "execution_count": 76,
   "id": "981524ec",
   "metadata": {},
   "outputs": [
    {
     "data": {
      "text/plain": [
       "(1, 2, 3, 4, 1, 2, 3, 4, 1, 2, 3, 4)"
      ]
     },
     "execution_count": 76,
     "metadata": {},
     "output_type": "execute_result"
    }
   ],
   "source": [
    "tup2*3"
   ]
  },
  {
   "cell_type": "code",
   "execution_count": 77,
   "id": "38caa210",
   "metadata": {},
   "outputs": [
    {
     "name": "stdout",
     "output_type": "stream",
     "text": [
      "True\n"
     ]
    }
   ],
   "source": [
    "print(3 in tup2)"
   ]
  },
  {
   "cell_type": "code",
   "execution_count": 78,
   "id": "aaa012ad",
   "metadata": {},
   "outputs": [
    {
     "name": "stdout",
     "output_type": "stream",
     "text": [
      "False\n"
     ]
    }
   ],
   "source": [
    "print(30 in tup2)"
   ]
  },
  {
   "cell_type": "markdown",
   "id": "ae0ae559",
   "metadata": {},
   "source": [
    "## Dictionary"
   ]
  },
  {
   "cell_type": "code",
   "execution_count": 79,
   "id": "ae96beee",
   "metadata": {},
   "outputs": [],
   "source": [
    "student={'name':'priya','age':20,'course':'b.tech','stream':'cse'}"
   ]
  },
  {
   "cell_type": "code",
   "execution_count": 80,
   "id": "ea6d309e",
   "metadata": {},
   "outputs": [
    {
     "data": {
      "text/plain": [
       "{'name': 'priya', 'age': 20, 'course': 'b.tech', 'stream': 'cse'}"
      ]
     },
     "execution_count": 80,
     "metadata": {},
     "output_type": "execute_result"
    }
   ],
   "source": [
    "student"
   ]
  },
  {
   "cell_type": "code",
   "execution_count": 81,
   "id": "703c2002",
   "metadata": {},
   "outputs": [
    {
     "data": {
      "text/plain": [
       "'priya'"
      ]
     },
     "execution_count": 81,
     "metadata": {},
     "output_type": "execute_result"
    }
   ],
   "source": [
    "student['name']"
   ]
  },
  {
   "cell_type": "code",
   "execution_count": 82,
   "id": "d02430ff",
   "metadata": {},
   "outputs": [
    {
     "ename": "KeyError",
     "evalue": "'subject'",
     "output_type": "error",
     "traceback": [
      "\u001b[1;31m---------------------------------------------------------------------------\u001b[0m",
      "\u001b[1;31mKeyError\u001b[0m                                  Traceback (most recent call last)",
      "Cell \u001b[1;32mIn[82], line 1\u001b[0m\n\u001b[1;32m----> 1\u001b[0m student[\u001b[38;5;124m'\u001b[39m\u001b[38;5;124msubject\u001b[39m\u001b[38;5;124m'\u001b[39m]\n",
      "\u001b[1;31mKeyError\u001b[0m: 'subject'"
     ]
    }
   ],
   "source": [
    "student['subject']"
   ]
  },
  {
   "cell_type": "code",
   "execution_count": 83,
   "id": "da635ae4",
   "metadata": {},
   "outputs": [],
   "source": [
    "student.get('subject')"
   ]
  },
  {
   "cell_type": "code",
   "execution_count": 84,
   "id": "bae43e10",
   "metadata": {},
   "outputs": [
    {
     "data": {
      "text/plain": [
       "'subject is not defined here'"
      ]
     },
     "execution_count": 84,
     "metadata": {},
     "output_type": "execute_result"
    }
   ],
   "source": [
    "student.get('subject','subject is not defined here')"
   ]
  },
  {
   "cell_type": "code",
   "execution_count": 85,
   "id": "3993a259",
   "metadata": {},
   "outputs": [
    {
     "data": {
      "text/plain": [
       "20"
      ]
     },
     "execution_count": 85,
     "metadata": {},
     "output_type": "execute_result"
    }
   ],
   "source": [
    "student.get('age','age is not defined here')"
   ]
  },
  {
   "cell_type": "code",
   "execution_count": 86,
   "id": "1ac57a88",
   "metadata": {},
   "outputs": [
    {
     "name": "stdout",
     "output_type": "stream",
     "text": [
      "dict_keys(['name', 'age', 'course', 'stream'])\n"
     ]
    }
   ],
   "source": [
    "print(student.keys())"
   ]
  },
  {
   "cell_type": "code",
   "execution_count": 87,
   "id": "b8ff4da9",
   "metadata": {},
   "outputs": [
    {
     "name": "stdout",
     "output_type": "stream",
     "text": [
      "dict_values(['priya', 20, 'b.tech', 'cse'])\n"
     ]
    }
   ],
   "source": [
    "print(student.values())"
   ]
  },
  {
   "cell_type": "code",
   "execution_count": 88,
   "id": "83675ce4",
   "metadata": {},
   "outputs": [],
   "source": [
    "student['stream'] = 'ECE'"
   ]
  },
  {
   "cell_type": "code",
   "execution_count": 89,
   "id": "bfa78944",
   "metadata": {},
   "outputs": [
    {
     "data": {
      "text/plain": [
       "{'name': 'priya', 'age': 20, 'course': 'b.tech', 'stream': 'ECE'}"
      ]
     },
     "execution_count": 89,
     "metadata": {},
     "output_type": "execute_result"
    }
   ],
   "source": [
    "student"
   ]
  },
  {
   "cell_type": "code",
   "execution_count": 90,
   "id": "a24c1a54",
   "metadata": {},
   "outputs": [],
   "source": [
    "student['stream'] = ('ECE','CSE')"
   ]
  },
  {
   "cell_type": "code",
   "execution_count": 91,
   "id": "c5ccd7be",
   "metadata": {},
   "outputs": [
    {
     "data": {
      "text/plain": [
       "{'name': 'priya', 'age': 20, 'course': 'b.tech', 'stream': ('ECE', 'CSE')}"
      ]
     },
     "execution_count": 91,
     "metadata": {},
     "output_type": "execute_result"
    }
   ],
   "source": [
    "student"
   ]
  },
  {
   "cell_type": "code",
   "execution_count": 92,
   "id": "cb99a3bd",
   "metadata": {},
   "outputs": [],
   "source": [
    "student['city'] = 'Mumbai'"
   ]
  },
  {
   "cell_type": "code",
   "execution_count": 93,
   "id": "4c72588b",
   "metadata": {},
   "outputs": [
    {
     "data": {
      "text/plain": [
       "{'name': 'priya',\n",
       " 'age': 20,\n",
       " 'course': 'b.tech',\n",
       " 'stream': ('ECE', 'CSE'),\n",
       " 'city': 'Mumbai'}"
      ]
     },
     "execution_count": 93,
     "metadata": {},
     "output_type": "execute_result"
    }
   ],
   "source": [
    "student"
   ]
  },
  {
   "cell_type": "code",
   "execution_count": 94,
   "id": "90290858",
   "metadata": {},
   "outputs": [
    {
     "data": {
      "text/plain": [
       "'CSE'"
      ]
     },
     "execution_count": 94,
     "metadata": {},
     "output_type": "execute_result"
    }
   ],
   "source": [
    "student['stream'][1]"
   ]
  },
  {
   "cell_type": "code",
   "execution_count": 95,
   "id": "ebfc50ef",
   "metadata": {},
   "outputs": [],
   "source": [
    "del student['course']"
   ]
  },
  {
   "cell_type": "code",
   "execution_count": 96,
   "id": "0655e1f3",
   "metadata": {},
   "outputs": [
    {
     "data": {
      "text/plain": [
       "{'name': 'priya', 'age': 20, 'stream': ('ECE', 'CSE'), 'city': 'Mumbai'}"
      ]
     },
     "execution_count": 96,
     "metadata": {},
     "output_type": "execute_result"
    }
   ],
   "source": [
    "student"
   ]
  },
  {
   "cell_type": "code",
   "execution_count": 100,
   "id": "1067e244",
   "metadata": {},
   "outputs": [
    {
     "data": {
      "text/plain": [
       "20"
      ]
     },
     "execution_count": 100,
     "metadata": {},
     "output_type": "execute_result"
    }
   ],
   "source": [
    "student.pop('age')"
   ]
  },
  {
   "cell_type": "code",
   "execution_count": 101,
   "id": "db5287a3",
   "metadata": {},
   "outputs": [],
   "source": [
    "student.clear()"
   ]
  },
  {
   "cell_type": "code",
   "execution_count": 102,
   "id": "74548f22",
   "metadata": {},
   "outputs": [
    {
     "data": {
      "text/plain": [
       "{}"
      ]
     },
     "execution_count": 102,
     "metadata": {},
     "output_type": "execute_result"
    }
   ],
   "source": [
    "student"
   ]
  },
  {
   "cell_type": "markdown",
   "id": "2b04adb2",
   "metadata": {},
   "source": [
    "## sets"
   ]
  },
  {
   "cell_type": "code",
   "execution_count": 1,
   "id": "41c153de",
   "metadata": {},
   "outputs": [],
   "source": [
    "set1 = {12,13,45,78,98}"
   ]
  },
  {
   "cell_type": "code",
   "execution_count": 2,
   "id": "8eaa6749",
   "metadata": {},
   "outputs": [
    {
     "data": {
      "text/plain": [
       "{12, 13, 45, 78, 98}"
      ]
     },
     "execution_count": 2,
     "metadata": {},
     "output_type": "execute_result"
    }
   ],
   "source": [
    "set1"
   ]
  },
  {
   "cell_type": "code",
   "execution_count": 3,
   "id": "4fcf80d1",
   "metadata": {},
   "outputs": [
    {
     "data": {
      "text/plain": [
       "set"
      ]
     },
     "execution_count": 3,
     "metadata": {},
     "output_type": "execute_result"
    }
   ],
   "source": [
    "type(set1)"
   ]
  },
  {
   "cell_type": "code",
   "execution_count": 4,
   "id": "62f9c5ab",
   "metadata": {},
   "outputs": [],
   "source": [
    "set2 = {12,78,45,34,22}"
   ]
  },
  {
   "cell_type": "code",
   "execution_count": 5,
   "id": "a2185ba3",
   "metadata": {},
   "outputs": [
    {
     "data": {
      "text/plain": [
       "{12, 22, 34, 45, 78}"
      ]
     },
     "execution_count": 5,
     "metadata": {},
     "output_type": "execute_result"
    }
   ],
   "source": [
    "set2"
   ]
  },
  {
   "cell_type": "code",
   "execution_count": 6,
   "id": "48688640",
   "metadata": {},
   "outputs": [],
   "source": [
    "set2.add(11)"
   ]
  },
  {
   "cell_type": "code",
   "execution_count": 7,
   "id": "8724fcf3",
   "metadata": {},
   "outputs": [
    {
     "data": {
      "text/plain": [
       "{11, 12, 22, 34, 45, 78}"
      ]
     },
     "execution_count": 7,
     "metadata": {},
     "output_type": "execute_result"
    }
   ],
   "source": [
    "set2"
   ]
  },
  {
   "cell_type": "code",
   "execution_count": 8,
   "id": "620577d2",
   "metadata": {},
   "outputs": [],
   "source": [
    "ls = [133,788,99]"
   ]
  },
  {
   "cell_type": "code",
   "execution_count": 9,
   "id": "0471a6d0",
   "metadata": {},
   "outputs": [],
   "source": [
    "set2.update(ls)"
   ]
  },
  {
   "cell_type": "code",
   "execution_count": 10,
   "id": "e5badc16",
   "metadata": {},
   "outputs": [
    {
     "data": {
      "text/plain": [
       "{11, 12, 22, 34, 45, 78, 99, 133, 788}"
      ]
     },
     "execution_count": 10,
     "metadata": {},
     "output_type": "execute_result"
    }
   ],
   "source": [
    "set2"
   ]
  },
  {
   "cell_type": "code",
   "execution_count": 11,
   "id": "debfbb12",
   "metadata": {},
   "outputs": [],
   "source": [
    "set2.remove(133)"
   ]
  },
  {
   "cell_type": "code",
   "execution_count": 12,
   "id": "faee6481",
   "metadata": {},
   "outputs": [
    {
     "data": {
      "text/plain": [
       "{11, 12, 22, 34, 45, 78, 99, 788}"
      ]
     },
     "execution_count": 12,
     "metadata": {},
     "output_type": "execute_result"
    }
   ],
   "source": [
    "set2"
   ]
  },
  {
   "cell_type": "code",
   "execution_count": 13,
   "id": "c41ac25f",
   "metadata": {},
   "outputs": [],
   "source": [
    "set2.discard(22)"
   ]
  },
  {
   "cell_type": "code",
   "execution_count": 14,
   "id": "77e7321a",
   "metadata": {},
   "outputs": [
    {
     "data": {
      "text/plain": [
       "{11, 12, 34, 45, 78, 99, 788}"
      ]
     },
     "execution_count": 14,
     "metadata": {},
     "output_type": "execute_result"
    }
   ],
   "source": [
    "set2"
   ]
  },
  {
   "cell_type": "code",
   "execution_count": 15,
   "id": "d83b888e",
   "metadata": {},
   "outputs": [
    {
     "data": {
      "text/plain": [
       "11"
      ]
     },
     "execution_count": 15,
     "metadata": {},
     "output_type": "execute_result"
    }
   ],
   "source": [
    "set2.pop()"
   ]
  },
  {
   "cell_type": "code",
   "execution_count": 16,
   "id": "bc47c401",
   "metadata": {},
   "outputs": [],
   "source": [
    "A = {1,2,3,4,5}\n",
    "B = {5,6,7,8,9}"
   ]
  },
  {
   "cell_type": "code",
   "execution_count": 17,
   "id": "2967b43b",
   "metadata": {},
   "outputs": [
    {
     "name": "stdout",
     "output_type": "stream",
     "text": [
      "{1, 2, 3, 4, 5, 6, 7, 8, 9}\n"
     ]
    }
   ],
   "source": [
    "print(A|B)"
   ]
  },
  {
   "cell_type": "code",
   "execution_count": 18,
   "id": "0041bb61",
   "metadata": {},
   "outputs": [
    {
     "name": "stdout",
     "output_type": "stream",
     "text": [
      "{5}\n"
     ]
    }
   ],
   "source": [
    "print(A&B)"
   ]
  },
  {
   "cell_type": "code",
   "execution_count": 19,
   "id": "7816c7cb",
   "metadata": {},
   "outputs": [
    {
     "name": "stdout",
     "output_type": "stream",
     "text": [
      "{1, 2, 3, 4}\n"
     ]
    }
   ],
   "source": [
    "print(A-B)"
   ]
  },
  {
   "cell_type": "markdown",
   "id": "68f09b07",
   "metadata": {},
   "source": [
    "## ques 1: accept string value and count each character"
   ]
  },
  {
   "cell_type": "code",
   "execution_count": null,
   "id": "1d673bbb",
   "metadata": {},
   "outputs": [],
   "source": [
    "string = input('Enter a string:/n')\n",
    "for i in string:\n",
    "    "
   ]
  }
 ],
 "metadata": {
  "kernelspec": {
   "display_name": "Python 3 (ipykernel)",
   "language": "python",
   "name": "python3"
  },
  "language_info": {
   "codemirror_mode": {
    "name": "ipython",
    "version": 3
   },
   "file_extension": ".py",
   "mimetype": "text/x-python",
   "name": "python",
   "nbconvert_exporter": "python",
   "pygments_lexer": "ipython3",
   "version": "3.11.4"
  }
 },
 "nbformat": 4,
 "nbformat_minor": 5
}
